{
 "cells": [
  {
   "cell_type": "code",
   "execution_count": 1,
   "id": "321d8673-0880-434d-97ae-538d73865d4f",
   "metadata": {},
   "outputs": [
    {
     "name": "stdout",
     "output_type": "stream",
     "text": [
      "Requirement already satisfied: opencv-python in c:\\users\\katya\\anaconda3\\lib\\site-packages (4.10.0.84)\n",
      "Requirement already satisfied: numpy>=1.21.2 in c:\\users\\katya\\anaconda3\\lib\\site-packages (from opencv-python) (1.26.4)\n"
     ]
    }
   ],
   "source": [
    "!pip install opencv-python"
   ]
  },
  {
   "cell_type": "code",
   "execution_count": 2,
   "id": "b68dd2bb-9b4a-4df4-b8c9-47dec96d250e",
   "metadata": {},
   "outputs": [],
   "source": [
    "import cv2\n",
    "import time\n",
    "import os\n",
    "import win32gui\n",
    "import win32con\n",
    "\n",
    "\n",
    "def minimizeWindow():\n",
    "    window = win32gui.GetForegroundWindow()\n",
    "    win32gui.ShowWindow(window, win32con.SW_MINIMIZE)"
   ]
  },
  {
   "cell_type": "code",
   "execution_count": 4,
   "id": "75d5fff8-8c71-487a-b86c-dab515d449dc",
   "metadata": {},
   "outputs": [
    {
     "name": "stdout",
     "output_type": "stream",
     "text": [
      "********************************************************************************\n",
      "                              Welcome to CCTV Software\n",
      "********************************************************************************\n"
     ]
    },
    {
     "name": "stdin",
     "output_type": "stream",
     "text": [
      "Do you want to start the CCTV?\n",
      "1. Yes\n",
      "2. No\n",
      ">>>  Yes\n"
     ]
    },
    {
     "name": "stdout",
     "output_type": "stream",
     "text": [
      "Camera resolution set to: 640 x 480\n",
      "\n",
      "Instructions:\n",
      "1. Press 'ESC' to exit the application.\n",
      "2. Press 'm' to minimize the application window.\n",
      "3. Press 's' to stop the recording while keeping the camera feed open.\n",
      "Recording saved at: C:\\Users\\katya\\Downloads\\footages\\Recording_20-44-58_24-11-2024.mp4\n"
     ]
    }
   ],
   "source": [
    "import cv2\n",
    "import time\n",
    "import os\n",
    "import win32gui\n",
    "import win32con\n",
    "\n",
    "# Function to minimize the application window\n",
    "def minimizeWindow():\n",
    "    window = win32gui.GetForegroundWindow()\n",
    "    win32gui.ShowWindow(window, win32con.SW_MINIMIZE)\n",
    "\n",
    "# Function to handle the CCTV camera recording\n",
    "def cctv():\n",
    "    # Specify the directory where the recordings will be saved\n",
    "    footage_dir = r\"C:\\Users\\katya\\Downloads\\footages\"\n",
    "    if not os.path.exists(footage_dir):\n",
    "        os.makedirs(footage_dir)  # Create the folder if it doesn't exist\n",
    "\n",
    "    # Initialize the camera\n",
    "    video = cv2.VideoCapture(0)  # Use default camera (0)\n",
    "    video.set(cv2.CAP_PROP_FRAME_WIDTH, 640)  # Set video width\n",
    "    video.set(cv2.CAP_PROP_FRAME_HEIGHT, 480)  # Set video height\n",
    "\n",
    "    width = int(video.get(3))  # Get actual camera width\n",
    "    height = int(video.get(4))  # Get actual camera height\n",
    "    print(f\"Camera resolution set to: {width} x {height}\")\n",
    "    print(\"\\nInstructions:\")\n",
    "    print(\"1. Press 'ESC' to exit the application.\")\n",
    "    print(\"2. Press 'm' to minimize the application window.\")\n",
    "    print(\"3. Press 's' to stop the recording while keeping the camera feed open.\")\n",
    "\n",
    "    # VideoWriter for saving recordings\n",
    "    fourcc = cv2.VideoWriter_fourcc(*'XVID')\n",
    "    date_time = time.strftime(\"Recording_%H-%M-%S_%d-%m-%Y\")  # Filename based on current time\n",
    "    output_path = os.path.join(footage_dir, f\"{date_time}.mp4\")\n",
    "    output = cv2.VideoWriter(output_path, fourcc, 20.0, (640, 480))\n",
    "\n",
    "    # Recording status\n",
    "    is_recording = True\n",
    "\n",
    "    # Start capturing frames\n",
    "    while video.isOpened():\n",
    "        check, frame = video.read()  # Capture frame-by-frame\n",
    "        if check:\n",
    "            # Flip the frame horizontally for a mirrored effect\n",
    "            frame = cv2.flip(frame, 1)\n",
    "\n",
    "            # Display timestamp and camera label on the frame\n",
    "            current_time = time.ctime()  # Get the current time\n",
    "            cv2.putText(frame, \"Camera 1\", (10, 20), cv2.FONT_HERSHEY_SIMPLEX, 0.6, (0, 255, 0), 2)\n",
    "            cv2.putText(frame, current_time, (350, 470), cv2.FONT_HERSHEY_SIMPLEX, 0.5, (255, 255, 255), 1)\n",
    "\n",
    "            # Show the live camera feed\n",
    "            cv2.imshow('CCTV Camera Feed', frame)\n",
    "\n",
    "            # Save the frame to the video file if recording is enabled\n",
    "            if is_recording:\n",
    "                output.write(frame)\n",
    "\n",
    "            # Handle keypress events\n",
    "            key = cv2.waitKey(1)\n",
    "            if key == 27:  # ESC key to exit\n",
    "                print(f\"Recording saved at: {output_path}\")\n",
    "                break\n",
    "            elif key == ord('m'):  # Minimize window\n",
    "                minimizeWindow()\n",
    "            elif key == ord('s'):  # Stop recording\n",
    "                if is_recording:\n",
    "                    is_recording = False\n",
    "                    print(\"Recording stopped. Camera feed will continue.\")\n",
    "        else:\n",
    "            print(\"Error accessing the camera. Please check your device.\")\n",
    "            break\n",
    "\n",
    "    # Release resources\n",
    "    video.release()\n",
    "    output.release()\n",
    "    cv2.destroyAllWindows()\n",
    "\n",
    "# Welcome message and user input to start CCTV\n",
    "def main():\n",
    "    print(\"*\" * 80)\n",
    "    print(\" \" * 30 + \"Welcome to CCTV Software\")\n",
    "    print(\"*\" * 80)\n",
    "    \n",
    "    while True:\n",
    "        user_input = input(\"Do you want to start the CCTV?\\n1. Yes\\n2. No\\n>>> \").strip().lower()\n",
    "        if user_input in ['1', 'yes', 'y']:\n",
    "            cctv()\n",
    "            break\n",
    "        elif user_input in ['2', 'no', 'n']:\n",
    "            print(\"Goodbye! Stay safe and secure!\")\n",
    "            break\n",
    "        else:\n",
    "            print(\"Invalid input. Please enter 1 (Yes) or 2 (No).\")\n",
    "\n",
    "# Run the application\n",
    "if __name__ == \"__main__\":\n",
    "    main()\n"
   ]
  },
  {
   "cell_type": "code",
   "execution_count": null,
   "id": "c7fd9a17-e966-40b9-ae22-4e53b359e10f",
   "metadata": {},
   "outputs": [],
   "source": []
  }
 ],
 "metadata": {
  "kernelspec": {
   "display_name": "Python 3 (ipykernel)",
   "language": "python",
   "name": "python3"
  },
  "language_info": {
   "codemirror_mode": {
    "name": "ipython",
    "version": 3
   },
   "file_extension": ".py",
   "mimetype": "text/x-python",
   "name": "python",
   "nbconvert_exporter": "python",
   "pygments_lexer": "ipython3",
   "version": "3.12.4"
  }
 },
 "nbformat": 4,
 "nbformat_minor": 5
}
